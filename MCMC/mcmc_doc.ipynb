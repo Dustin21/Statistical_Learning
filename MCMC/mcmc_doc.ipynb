{
 "cells": [
  {
   "cell_type": "markdown",
   "metadata": {
    "collapsed": true
   },
   "source": [
    "# Markov Chain Monte Carlo with Gaussian Mixtures"
   ]
  },
  {
   "cell_type": "markdown",
   "metadata": {},
   "source": [
    "Markov Chain Monte Carlo (MCMC) is a technique used to solve the problem of _sampling from a complicated distribution_. The sampling problem is as follows:\n",
    "\n",
    "> Let $F$ be a distribution over a finite set $X$. You have access to the probability distribution function $f(x;\\theta)$, which outputs the probability of drawing some $x \\in X$ for some $D$, given some parameter set $\\theta \\in \\Theta$. Sample N draws strategically from $f(x;\\theta)$ such that we can approximate the density of $f$, thereby being able to compute expectations, confidence intervals, etc.\n",
    "\n",
    "MCMC has some great properties that ensure convergence to the true distribution asymptotically. We are essentially sampling according to a recurrent and irriducible Markov chain (ergodic), which ensures that the enture space will eventually be sample to the limit.\n",
    "\n",
    "We will focus on the approach of MCMC called the Metropolis-Hastings (MH) algorithm. MH allows a general proposal distribution $q$:\n",
    "\n",
    "* $q(\\tilde{x}^t)$ is the probability of proposing $\\tilde{x}^t$\n",
    "* MH is a special case where the proposal $q$ is a Gaussian with zero mean\n",
    "* Accept proposed $\\tilde{x}^t$ if $u \\leq \\frac{\\tilde{p}(\\tilde{x}^t)q(x^t|\\tilde{x}^t)}{\\tilde{p}(x^t)q(\\tilde{x}^t|\\tilde{x}^t)}$, where the extra terms ensure reversibility for assymetry of $q$.\n",
    "\n",
    "The algorithm is as follows:\n",
    "\n",
    "1. Add zero-mean Gaussian noise to $x^t$ to generate $\\tilde{x}^t$\n",
    "2. Generate $u$ from a $Unif(0,1)$\n",
    "3. Accept the sample and set $x^{t+1} = \\tilde{x}^t$ if $u \\leq \\frac{\\tilde{p}(\\tilde{x}^t}{\\tilde{p}(x^t)}$, otherwise reject the sample and set $x^{t+1} = x^t$\n",
    "\n",
    "We can think of this as a random walk, but we occationally reject steps that decrease probability. Let's try it for ourselves!\n",
    "\n"
   ]
  },
  {
   "cell_type": "code",
   "execution_count": 1,
   "metadata": {
    "collapsed": true
   },
   "outputs": [],
   "source": [
    "import numpy as np\n",
    "import matplotlib.pyplot as plt \n",
    "from MCMC.mcmc import MCMC, DataDistribution"
   ]
  },
  {
   "cell_type": "markdown",
   "metadata": {},
   "source": [
    "We the Gaussian mixture model GMM class below, with requires the input vectors for mean, standard deviation and the corresponding weights allotted to each cluster. These weights must sum to 1. The GMM formulation is as follows:\n",
    "\n",
    "$$\n",
    "p({\\boldsymbol {\\theta \\in \\{\\mu, \\Sigma\\} }})=\\sum _{i=1}^{K}w_i{\\mathcal {N}}({\\boldsymbol {\\mu _{i},\\Sigma _{i}}}) \\quad \\text{ s.t. } \\sum_{i=1}^K w_i = 1\n",
    "$$"
   ]
  },
  {
   "cell_type": "code",
   "execution_count": 2,
   "metadata": {},
   "outputs": [],
   "source": [
    "mu1 = [-2.0, 2.0, -5.0, -10.0, 5]\n",
    "sd1 = [1.0, 0.5, 0.5, 0.5, 1.5]\n",
    "w1 = [0.2, 0.3, 0.2, 0.1, 0.2]\n",
    "mixtureDens1 = DataDistribution(mu1, sd1, w1)"
   ]
  },
  {
   "cell_type": "markdown",
   "metadata": {},
   "source": [
    "Once the GMM class has been called and initialized, we call the MCMC class, which requires an initializing value `x0`, the variance of the proposal distribution `sigma`, and the number of samples `n` to be drawn.\n",
    "\n",
    "We can then run the MCMC procedure by calling the function mcmc from the class, which requires the initialized mixture density class object. The time required for the run will be outputed."
   ]
  },
  {
   "cell_type": "code",
   "execution_count": 3,
   "metadata": {
    "collapsed": true
   },
   "outputs": [
    {
     "name": "stdout",
     "output_type": "stream",
     "text": [
      "Elapsed time: 6.08 seconds\n"
     ]
    }
   ],
   "source": [
    "x0 = np.random.rand(1)\n",
    "sigma = 10\n",
    "n = int(1e5)\n",
    "\n",
    "sim = MCMC(x0=x0, sigma=sigma, n=n)\n",
    "x_out = sim.mcmc(mixtureDens1.gaussian_mixture)"
   ]
  },
  {
   "cell_type": "markdown",
   "metadata": {},
   "source": [
    "The histogram of the simulated samples is outputted in the plot below. The red line corresponds to the true density. The starting value is outputted below the plot."
   ]
  },
  {
   "cell_type": "code",
   "execution_count": 4,
   "metadata": {
    "collapsed": false
   },
   "outputs": [
    {
     "data": {
      "image/png": "[encoded data removed]",
      "text/plain": [
       "<matplotlib.figure.Figure at 0x1070bfa90>"
      ]
     },
     "metadata": {},
     "output_type": "display_data"
    }
   ],
   "source": [
    "sim.plotHistorgram(mixtureDens1.gaussian_mixture, x_out, xrange = [-15, 15])"
   ]
  },
  {
   "cell_type": "markdown",
   "metadata": {},
   "source": [
    "To get a sense of convergence to the true distribution, we can use metrics such as the cumulative mean or standard deviation."
   ]
  },
  {
   "cell_type": "code",
   "execution_count": 5,
   "metadata": {
    "collapsed": true
   },
   "outputs": [
    {
     "data": {
      "image/png": "[encoded data removed]",
      "text/plain": [
       "<matplotlib.figure.Figure at 0x1079d10b8>"
      ]
     },
     "metadata": {},
     "output_type": "display_data"
    }
   ],
   "source": [
    "sim.plotFirstMomentConvergence(x_out)\n",
    "plt.axhline(np.dot(mu1,w1), color='g')\n",
    "plt.show()"
   ]
  },
  {
   "cell_type": "code",
   "execution_count": 6,
   "metadata": {
    "collapsed": true
   },
   "outputs": [
    {
     "ename": "NameError",
     "evalue": "name 'pandas' is not defined",
     "traceback": [
      "\u001b[0;31m---------------------------------------------------------------------------\u001b[0m",
      "\u001b[0;31mNameError\u001b[0m                                 Traceback (most recent call last)",
      "\u001b[0;32m<ipython-input-6-ce6469a97831>\u001b[0m in \u001b[0;36m<module>\u001b[0;34m()\u001b[0m\n\u001b[0;32m----> 1\u001b[0;31m \u001b[0mout\u001b[0m \u001b[0;34m=\u001b[0m \u001b[0msim\u001b[0m\u001b[0;34m.\u001b[0m\u001b[0mplotSecondMomentConvergence\u001b[0m\u001b[0;34m(\u001b[0m\u001b[0mx_out\u001b[0m\u001b[0;34m)\u001b[0m\u001b[0;34m\u001b[0m\u001b[0m\n\u001b[0m\u001b[1;32m      2\u001b[0m \u001b[0mplt\u001b[0m\u001b[0;34m.\u001b[0m\u001b[0maxhline\u001b[0m\u001b[0;34m(\u001b[0m\u001b[0mnp\u001b[0m\u001b[0;34m.\u001b[0m\u001b[0mdot\u001b[0m\u001b[0;34m(\u001b[0m\u001b[0mmu1\u001b[0m\u001b[0;34m,\u001b[0m\u001b[0mnp\u001b[0m\u001b[0;34m.\u001b[0m\u001b[0mpower\u001b[0m\u001b[0;34m(\u001b[0m\u001b[0mw1\u001b[0m\u001b[0;34m,\u001b[0m\u001b[0;36m2\u001b[0m\u001b[0;34m)\u001b[0m\u001b[0;34m)\u001b[0m\u001b[0;34m,\u001b[0m \u001b[0mcolor\u001b[0m \u001b[0;34m=\u001b[0m \u001b[0;34m'r'\u001b[0m\u001b[0;34m)\u001b[0m\u001b[0;34m\u001b[0m\u001b[0m\n\u001b[1;32m      3\u001b[0m \u001b[0mplt\u001b[0m\u001b[0;34m.\u001b[0m\u001b[0mylim\u001b[0m\u001b[0;34m(\u001b[0m\u001b[0;34m[\u001b[0m\u001b[0;34m-\u001b[0m\u001b[0;36m200\u001b[0m\u001b[0;34m,\u001b[0m\u001b[0;36m200\u001b[0m\u001b[0;34m]\u001b[0m\u001b[0;34m)\u001b[0m\u001b[0;34m\u001b[0m\u001b[0m\n\u001b[1;32m      4\u001b[0m \u001b[0;34m\u001b[0m\u001b[0m\n\u001b[1;32m      5\u001b[0m \u001b[0mplt\u001b[0m\u001b[0;34m.\u001b[0m\u001b[0mshow\u001b[0m\u001b[0;34m(\u001b[0m\u001b[0;34m)\u001b[0m\u001b[0;34m\u001b[0m\u001b[0m\n",
      "\u001b[0;32m/Users/KinZ/Directory/Topic_Tutorials/MCMC/mcmc.py\u001b[0m in \u001b[0;36mplotSecondMomentConvergence\u001b[0;34m(self, x)\u001b[0m\n\u001b[1;32m    130\u001b[0m         \"\"\"\n\u001b[1;32m    131\u001b[0m         \u001b[0mx_in\u001b[0m \u001b[0;34m=\u001b[0m \u001b[0mnp\u001b[0m\u001b[0;34m.\u001b[0m\u001b[0mtranspose\u001b[0m\u001b[0;34m(\u001b[0m\u001b[0mx\u001b[0m\u001b[0;34m)\u001b[0m\u001b[0;34m\u001b[0m\u001b[0m\n\u001b[0;32m--> 132\u001b[0;31m         \u001b[0mcumstd\u001b[0m \u001b[0;34m=\u001b[0m \u001b[0mpandas\u001b[0m\u001b[0;34m.\u001b[0m\u001b[0mexpanding_std\u001b[0m\u001b[0;34m(\u001b[0m\u001b[0mdata\u001b[0m\u001b[0;34m,\u001b[0m \u001b[0mmin_periods\u001b[0m\u001b[0;34m=\u001b[0m\u001b[0;36m1\u001b[0m\u001b[0;34m)\u001b[0m\u001b[0;34m\u001b[0m\u001b[0m\n\u001b[0m\u001b[1;32m    133\u001b[0m         \u001b[0mplt\u001b[0m\u001b[0;34m.\u001b[0m\u001b[0mplot\u001b[0m\u001b[0;34m(\u001b[0m\u001b[0mcumstd\u001b[0m\u001b[0;34m,\u001b[0m \u001b[0mlabel\u001b[0m \u001b[0;34m=\u001b[0m \u001b[0;34mu'E(X^2) Convergence'\u001b[0m\u001b[0;34m,\u001b[0m \u001b[0mcolor\u001b[0m\u001b[0;34m=\u001b[0m\u001b[0;34m'k'\u001b[0m\u001b[0;34m,\u001b[0m \u001b[0mlinewidth\u001b[0m\u001b[0;34m=\u001b[0m\u001b[0;36m1.5\u001b[0m\u001b[0;34m)\u001b[0m\u001b[0;34m\u001b[0m\u001b[0m\n\u001b[1;32m    134\u001b[0m         \u001b[0;32mreturn\u001b[0m \u001b[0mcumstd\u001b[0m\u001b[0;34m\u001b[0m\u001b[0m\n",
      "\u001b[0;31mNameError\u001b[0m: name 'pandas' is not defined"
     ],
     "output_type": "error"
    }
   ],
   "source": [
    "out = sim.plotSecondMomentConvergence(x_out)\n",
    "plt.axhline(np.dot(mu1,np.power(w1,2)), color = 'r')\n",
    "plt.ylim([-200,200])\n",
    "\n",
    "plt.show()"
   ]
  },
  {
   "cell_type": "code",
   "execution_count": null,
   "metadata": {},
   "outputs": [],
   "source": [
    ""
   ]
  }
 ],
 "metadata": {
  "kernelspec": {
   "display_name": "Python 2",
   "language": "python",
   "name": "python2"
  },
  "language_info": {
   "codemirror_mode": {
    "name": "ipython",
    "version": 2.0
   },
   "file_extension": ".py",
   "mimetype": "text/x-python",
   "name": "python",
   "nbconvert_exporter": "python",
   "pygments_lexer": "ipython2",
   "version": "2.7.6"
  }
 },
 "nbformat": 4,
 "nbformat_minor": 0
}